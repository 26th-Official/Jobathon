{
 "cells": [
  {
   "cell_type": "code",
   "execution_count": 1,
   "metadata": {},
   "outputs": [
    {
     "data": {
      "text/plain": [
       "{'Coded by': 'Sairam H',\n",
       " 'Email': '26thofficial.creator@gmail.com',\n",
       " 'LinkedIn': 'https://www.linkedin.com/sairam-h/',\n",
       " 'Github': 'https://github.com/26th-Official/'}"
      ]
     },
     "execution_count": 1,
     "metadata": {},
     "output_type": "execute_result"
    }
   ],
   "source": [
    "{\n",
    "    \"Coded by\" : \"Sairam H\",\n",
    "    \"Email\" : \"26thofficial.creator@gmail.com\",\n",
    "    \"LinkedIn\" : \"https://www.linkedin.com/sairam-h/\",\n",
    "    \"Github\" : \"https://github.com/26th-Official/\"\n",
    "}"
   ]
  },
  {
   "attachments": {},
   "cell_type": "markdown",
   "metadata": {},
   "source": [
    "---\n",
    "### THIS PROGRAM IS CODED WITH **PYTHON 3.8.x**, RUN IN THE SAME VERSION OR YOU WILL ENCOUNTER ERRORS\n",
    "---"
   ]
  },
  {
   "attachments": {},
   "cell_type": "markdown",
   "metadata": {},
   "source": [
    "## Importing Necessary Libraries"
   ]
  },
  {
   "cell_type": "code",
   "execution_count": 2,
   "metadata": {},
   "outputs": [],
   "source": [
    "import pandas as pd\n",
    "import matplotlib.pyplot as plt\n",
    "import seaborn as sns\n",
    "import numpy as np\n",
    "import pickle\n",
    "import random\n",
    "\n",
    "\n",
    "from sklearn.preprocessing import OrdinalEncoder\n",
    "from sklearn.impute import SimpleImputer\n",
    "from sklearn.model_selection import train_test_split\n",
    "from sklearn.metrics import r2_score,mean_squared_error\n",
    "\n",
    "from flaml import AutoML\n",
    "\n",
    "\n",
    "from xgboost import XGBRegressor\n",
    "from lightgbm import LGBMRegressor\n",
    "from catboost import CatBoostRegressor\n",
    "from sklearn.ensemble import VotingRegressor\n",
    "\n",
    "\n",
    "from hyperopt import hp,fmin, tpe, STATUS_OK, STATUS_FAIL, Trials,space_eval\n",
    "from hyperopt.pyll.base import scope\n",
    "from flaml import AutoML"
   ]
  },
  {
   "attachments": {},
   "cell_type": "markdown",
   "metadata": {},
   "source": [
    "## Loading the Dataset"
   ]
  },
  {
   "cell_type": "code",
   "execution_count": 3,
   "metadata": {},
   "outputs": [],
   "source": [
    "train = pd.read_csv(\"./Data/train_BRCpofr.csv\",index_col=False)\n",
    "test = pd.read_csv(\"./Data/test_koRSKBP.csv\",index_col=False)"
   ]
  },
  {
   "attachments": {},
   "cell_type": "markdown",
   "metadata": {},
   "source": [
    "## Data Preprocessing"
   ]
  },
  {
   "cell_type": "code",
   "execution_count": 4,
   "metadata": {},
   "outputs": [],
   "source": [
    "def preprocess(inp):\n",
    "    data = inp\n",
    "    \n",
    "    encoder = OrdinalEncoder()\n",
    "    encoded_data = encoder.fit_transform(data[[\"gender\",\"area\",\"qualification\",\"income\",\"num_policies\",\"policy\",\"type_of_policy\"]])\n",
    "    data[[\"gender\",\"area\",\"qualification\",\"income\",\"num_policies\",\"policy\",\"type_of_policy\"]] = pd.DataFrame(encoded_data.astype(\"int32\"))\n",
    "    \n",
    "    imputer = SimpleImputer(strategy=\"most_frequent\")\n",
    "    imputed_data = imputer.fit_transform(data[[\"gender\",\"area\",\"qualification\",\"income\",\"marital_status\",\"vintage\",\"claim_amount\",\"num_policies\",\"policy\",\"type_of_policy\"]])\n",
    "    data[[\"gender\",\"area\",\"qualification\",\"income\",\"marital_status\",\"vintage\",\"claim_amount\",\"num_policies\",\"policy\",\"type_of_policy\"]] = imputed_data\n",
    "    \n",
    "    # Feature Added after Data Analysis\n",
    "    \n",
    "    data[\"claim_prob\"] = 0\n",
    "    for i in range(len(data[\"claim_amount\"])):\n",
    "        if ((data[\"area\"].loc[i] == 1) and (data[\"num_policies\"].loc[i] == 1)):\n",
    "            data[\"claim_prob\"].loc[i] = 1\n",
    "        else:\n",
    "            data[\"claim_prob\"].loc[i] = 0\n",
    "                      \n",
    "    try:\n",
    "        x = data.drop(\"cltv\",axis=1)\n",
    "        y = data[\"cltv\"]\n",
    "    except:\n",
    "        return data\n",
    "    \n",
    "    return x,y"
   ]
  },
  {
   "cell_type": "code",
   "execution_count": 5,
   "metadata": {},
   "outputs": [],
   "source": [
    "x_train,y_train = preprocess(train)"
   ]
  },
  {
   "attachments": {},
   "cell_type": "markdown",
   "metadata": {},
   "source": [
    "## Data Analysis"
   ]
  },
  {
   "cell_type": "code",
   "execution_count": 6,
   "metadata": {},
   "outputs": [
    {
     "name": "stdout",
     "output_type": "stream",
     "text": [
      "(89392, 13)\n",
      "False False\n"
     ]
    },
    {
     "data": {
      "text/html": [
       "<div>\n",
       "<style scoped>\n",
       "    .dataframe tbody tr th:only-of-type {\n",
       "        vertical-align: middle;\n",
       "    }\n",
       "\n",
       "    .dataframe tbody tr th {\n",
       "        vertical-align: top;\n",
       "    }\n",
       "\n",
       "    .dataframe thead th {\n",
       "        text-align: right;\n",
       "    }\n",
       "</style>\n",
       "<table border=\"1\" class=\"dataframe\">\n",
       "  <thead>\n",
       "    <tr style=\"text-align: right;\">\n",
       "      <th></th>\n",
       "      <th>id</th>\n",
       "      <th>gender</th>\n",
       "      <th>area</th>\n",
       "      <th>qualification</th>\n",
       "      <th>income</th>\n",
       "      <th>marital_status</th>\n",
       "      <th>vintage</th>\n",
       "      <th>claim_amount</th>\n",
       "      <th>num_policies</th>\n",
       "      <th>policy</th>\n",
       "      <th>type_of_policy</th>\n",
       "      <th>cltv</th>\n",
       "      <th>claim_prob</th>\n",
       "    </tr>\n",
       "  </thead>\n",
       "  <tbody>\n",
       "    <tr>\n",
       "      <th>0</th>\n",
       "      <td>1</td>\n",
       "      <td>1</td>\n",
       "      <td>1</td>\n",
       "      <td>0</td>\n",
       "      <td>1</td>\n",
       "      <td>1</td>\n",
       "      <td>5</td>\n",
       "      <td>5790</td>\n",
       "      <td>1</td>\n",
       "      <td>0</td>\n",
       "      <td>1</td>\n",
       "      <td>64308</td>\n",
       "      <td>1</td>\n",
       "    </tr>\n",
       "    <tr>\n",
       "      <th>1</th>\n",
       "      <td>2</td>\n",
       "      <td>1</td>\n",
       "      <td>0</td>\n",
       "      <td>1</td>\n",
       "      <td>1</td>\n",
       "      <td>0</td>\n",
       "      <td>8</td>\n",
       "      <td>5080</td>\n",
       "      <td>1</td>\n",
       "      <td>0</td>\n",
       "      <td>1</td>\n",
       "      <td>515400</td>\n",
       "      <td>0</td>\n",
       "    </tr>\n",
       "    <tr>\n",
       "      <th>2</th>\n",
       "      <td>3</td>\n",
       "      <td>1</td>\n",
       "      <td>1</td>\n",
       "      <td>0</td>\n",
       "      <td>1</td>\n",
       "      <td>1</td>\n",
       "      <td>8</td>\n",
       "      <td>2599</td>\n",
       "      <td>1</td>\n",
       "      <td>0</td>\n",
       "      <td>1</td>\n",
       "      <td>64212</td>\n",
       "      <td>1</td>\n",
       "    </tr>\n",
       "    <tr>\n",
       "      <th>3</th>\n",
       "      <td>4</td>\n",
       "      <td>0</td>\n",
       "      <td>0</td>\n",
       "      <td>1</td>\n",
       "      <td>1</td>\n",
       "      <td>0</td>\n",
       "      <td>7</td>\n",
       "      <td>0</td>\n",
       "      <td>1</td>\n",
       "      <td>0</td>\n",
       "      <td>1</td>\n",
       "      <td>97920</td>\n",
       "      <td>0</td>\n",
       "    </tr>\n",
       "    <tr>\n",
       "      <th>4</th>\n",
       "      <td>5</td>\n",
       "      <td>1</td>\n",
       "      <td>1</td>\n",
       "      <td>1</td>\n",
       "      <td>3</td>\n",
       "      <td>1</td>\n",
       "      <td>6</td>\n",
       "      <td>3508</td>\n",
       "      <td>1</td>\n",
       "      <td>0</td>\n",
       "      <td>0</td>\n",
       "      <td>59736</td>\n",
       "      <td>1</td>\n",
       "    </tr>\n",
       "  </tbody>\n",
       "</table>\n",
       "</div>"
      ],
      "text/plain": [
       "   id  gender  area  qualification  income  marital_status  vintage  \\\n",
       "0   1       1     1              0       1               1        5   \n",
       "1   2       1     0              1       1               0        8   \n",
       "2   3       1     1              0       1               1        8   \n",
       "3   4       0     0              1       1               0        7   \n",
       "4   5       1     1              1       3               1        6   \n",
       "\n",
       "   claim_amount  num_policies  policy  type_of_policy    cltv  claim_prob  \n",
       "0          5790             1       0               1   64308           1  \n",
       "1          5080             1       0               1  515400           0  \n",
       "2          2599             1       0               1   64212           1  \n",
       "3             0             1       0               1   97920           0  \n",
       "4          3508             1       0               0   59736           1  "
      ]
     },
     "execution_count": 6,
     "metadata": {},
     "output_type": "execute_result"
    }
   ],
   "source": [
    "print(train.shape)\n",
    "print(train.isnull().values.any(),test.isnull().values.any())\n",
    "train.head()"
   ]
  },
  {
   "cell_type": "code",
   "execution_count": 7,
   "metadata": {},
   "outputs": [
    {
     "name": "stdout",
     "output_type": "stream",
     "text": [
      "<class 'pandas.core.frame.DataFrame'>\n",
      "RangeIndex: 89392 entries, 0 to 89391\n",
      "Data columns (total 13 columns):\n",
      " #   Column          Non-Null Count  Dtype\n",
      "---  ------          --------------  -----\n",
      " 0   id              89392 non-null  int64\n",
      " 1   gender          89392 non-null  int64\n",
      " 2   area            89392 non-null  int64\n",
      " 3   qualification   89392 non-null  int64\n",
      " 4   income          89392 non-null  int64\n",
      " 5   marital_status  89392 non-null  int64\n",
      " 6   vintage         89392 non-null  int64\n",
      " 7   claim_amount    89392 non-null  int64\n",
      " 8   num_policies    89392 non-null  int64\n",
      " 9   policy          89392 non-null  int64\n",
      " 10  type_of_policy  89392 non-null  int64\n",
      " 11  cltv            89392 non-null  int64\n",
      " 12  claim_prob      89392 non-null  int64\n",
      "dtypes: int64(13)\n",
      "memory usage: 8.9 MB\n",
      "None\n",
      "==============================\n",
      "gender [1 0]\n",
      "area [1 0]\n",
      "qualification [0 1 2]\n",
      "income [1 3 0 2]\n",
      "num_policies [1 0]\n",
      "policy [0 2 1]\n",
      "type_of_policy [1 0 2]\n"
     ]
    }
   ],
   "source": [
    "print(train.info())\n",
    "\n",
    "print(\"==============================\")\n",
    "\n",
    "# Unique data in each Columns\n",
    "\n",
    "for i in [\"gender\",\"area\",\"qualification\",\"income\",\"num_policies\",\"policy\",\"type_of_policy\"]:\n",
    "    print(i,train[i].unique())"
   ]
  },
  {
   "cell_type": "code",
   "execution_count": 8,
   "metadata": {},
   "outputs": [
    {
     "data": {
      "text/plain": [
       "marital_status   -0.077744\n",
       "income           -0.060024\n",
       "type_of_policy   -0.026221\n",
       "qualification    -0.021330\n",
       "policy           -0.012005\n",
       "id               -0.004223\n",
       "gender           -0.001318\n",
       "vintage           0.020608\n",
       "area              0.133107\n",
       "claim_amount      0.180344\n",
       "claim_prob        0.328011\n",
       "num_policies      0.360414\n",
       "dtype: float64"
      ]
     },
     "execution_count": 8,
     "metadata": {},
     "output_type": "execute_result"
    }
   ],
   "source": [
    "# Check for Data correlation\n",
    "\n",
    "x_train.corrwith(train[\"cltv\"]).sort_values()"
   ]
  },
  {
   "cell_type": "code",
   "execution_count": 9,
   "metadata": {},
   "outputs": [
    {
     "data": {
      "text/html": [
       "<div>\n",
       "<style scoped>\n",
       "    .dataframe tbody tr th:only-of-type {\n",
       "        vertical-align: middle;\n",
       "    }\n",
       "\n",
       "    .dataframe tbody tr th {\n",
       "        vertical-align: top;\n",
       "    }\n",
       "\n",
       "    .dataframe thead th {\n",
       "        text-align: right;\n",
       "    }\n",
       "</style>\n",
       "<table border=\"1\" class=\"dataframe\">\n",
       "  <thead>\n",
       "    <tr style=\"text-align: right;\">\n",
       "      <th></th>\n",
       "      <th>gender</th>\n",
       "      <th>area</th>\n",
       "      <th>qualification</th>\n",
       "      <th>income</th>\n",
       "      <th>marital_status</th>\n",
       "      <th>vintage</th>\n",
       "      <th>claim_amount</th>\n",
       "      <th>num_policies</th>\n",
       "      <th>policy</th>\n",
       "      <th>type_of_policy</th>\n",
       "      <th>cltv</th>\n",
       "      <th>claim_prob</th>\n",
       "    </tr>\n",
       "  </thead>\n",
       "  <tbody>\n",
       "    <tr>\n",
       "      <th>gender</th>\n",
       "      <td>1.000000</td>\n",
       "      <td>0.042516</td>\n",
       "      <td>-0.033076</td>\n",
       "      <td>-0.008311</td>\n",
       "      <td>0.070468</td>\n",
       "      <td>0.005827</td>\n",
       "      <td>0.049773</td>\n",
       "      <td>-0.052871</td>\n",
       "      <td>0.009049</td>\n",
       "      <td>-0.010702</td>\n",
       "      <td>-0.001318</td>\n",
       "      <td>-0.005363</td>\n",
       "    </tr>\n",
       "    <tr>\n",
       "      <th>area</th>\n",
       "      <td>0.042516</td>\n",
       "      <td>1.000000</td>\n",
       "      <td>0.022908</td>\n",
       "      <td>-0.203315</td>\n",
       "      <td>-0.048739</td>\n",
       "      <td>0.001145</td>\n",
       "      <td>0.451054</td>\n",
       "      <td>0.121898</td>\n",
       "      <td>-0.107123</td>\n",
       "      <td>-0.027672</td>\n",
       "      <td>0.133107</td>\n",
       "      <td>0.653088</td>\n",
       "    </tr>\n",
       "    <tr>\n",
       "      <th>qualification</th>\n",
       "      <td>-0.033076</td>\n",
       "      <td>0.022908</td>\n",
       "      <td>1.000000</td>\n",
       "      <td>0.001744</td>\n",
       "      <td>-0.012618</td>\n",
       "      <td>-0.027283</td>\n",
       "      <td>0.027440</td>\n",
       "      <td>-0.045894</td>\n",
       "      <td>-0.012722</td>\n",
       "      <td>-0.031595</td>\n",
       "      <td>-0.021330</td>\n",
       "      <td>-0.009550</td>\n",
       "    </tr>\n",
       "    <tr>\n",
       "      <th>income</th>\n",
       "      <td>-0.008311</td>\n",
       "      <td>-0.203315</td>\n",
       "      <td>0.001744</td>\n",
       "      <td>1.000000</td>\n",
       "      <td>0.015400</td>\n",
       "      <td>-0.011943</td>\n",
       "      <td>-0.153684</td>\n",
       "      <td>-0.047446</td>\n",
       "      <td>-0.033050</td>\n",
       "      <td>-0.025243</td>\n",
       "      <td>-0.060024</td>\n",
       "      <td>-0.148758</td>\n",
       "    </tr>\n",
       "    <tr>\n",
       "      <th>marital_status</th>\n",
       "      <td>0.070468</td>\n",
       "      <td>-0.048739</td>\n",
       "      <td>-0.012618</td>\n",
       "      <td>0.015400</td>\n",
       "      <td>1.000000</td>\n",
       "      <td>-0.011686</td>\n",
       "      <td>-0.114924</td>\n",
       "      <td>-0.082363</td>\n",
       "      <td>-0.014709</td>\n",
       "      <td>-0.006371</td>\n",
       "      <td>-0.077744</td>\n",
       "      <td>-0.086355</td>\n",
       "    </tr>\n",
       "    <tr>\n",
       "      <th>vintage</th>\n",
       "      <td>0.005827</td>\n",
       "      <td>0.001145</td>\n",
       "      <td>-0.027283</td>\n",
       "      <td>-0.011943</td>\n",
       "      <td>-0.011686</td>\n",
       "      <td>1.000000</td>\n",
       "      <td>0.009579</td>\n",
       "      <td>0.050699</td>\n",
       "      <td>0.043822</td>\n",
       "      <td>0.009025</td>\n",
       "      <td>0.020608</td>\n",
       "      <td>0.033352</td>\n",
       "    </tr>\n",
       "    <tr>\n",
       "      <th>claim_amount</th>\n",
       "      <td>0.049773</td>\n",
       "      <td>0.451054</td>\n",
       "      <td>0.027440</td>\n",
       "      <td>-0.153684</td>\n",
       "      <td>-0.114924</td>\n",
       "      <td>0.009579</td>\n",
       "      <td>1.000000</td>\n",
       "      <td>0.155281</td>\n",
       "      <td>-0.106845</td>\n",
       "      <td>-0.021854</td>\n",
       "      <td>0.180344</td>\n",
       "      <td>0.361017</td>\n",
       "    </tr>\n",
       "    <tr>\n",
       "      <th>num_policies</th>\n",
       "      <td>-0.052871</td>\n",
       "      <td>0.121898</td>\n",
       "      <td>-0.045894</td>\n",
       "      <td>-0.047446</td>\n",
       "      <td>-0.082363</td>\n",
       "      <td>0.050699</td>\n",
       "      <td>0.155281</td>\n",
       "      <td>1.000000</td>\n",
       "      <td>-0.009837</td>\n",
       "      <td>-0.033620</td>\n",
       "      <td>0.360414</td>\n",
       "      <td>0.691382</td>\n",
       "    </tr>\n",
       "    <tr>\n",
       "      <th>policy</th>\n",
       "      <td>0.009049</td>\n",
       "      <td>-0.107123</td>\n",
       "      <td>-0.012722</td>\n",
       "      <td>-0.033050</td>\n",
       "      <td>-0.014709</td>\n",
       "      <td>0.043822</td>\n",
       "      <td>-0.106845</td>\n",
       "      <td>-0.009837</td>\n",
       "      <td>1.000000</td>\n",
       "      <td>0.066279</td>\n",
       "      <td>-0.012005</td>\n",
       "      <td>-0.065660</td>\n",
       "    </tr>\n",
       "    <tr>\n",
       "      <th>type_of_policy</th>\n",
       "      <td>-0.010702</td>\n",
       "      <td>-0.027672</td>\n",
       "      <td>-0.031595</td>\n",
       "      <td>-0.025243</td>\n",
       "      <td>-0.006371</td>\n",
       "      <td>0.009025</td>\n",
       "      <td>-0.021854</td>\n",
       "      <td>-0.033620</td>\n",
       "      <td>0.066279</td>\n",
       "      <td>1.000000</td>\n",
       "      <td>-0.026221</td>\n",
       "      <td>-0.032400</td>\n",
       "    </tr>\n",
       "    <tr>\n",
       "      <th>cltv</th>\n",
       "      <td>-0.001318</td>\n",
       "      <td>0.133107</td>\n",
       "      <td>-0.021330</td>\n",
       "      <td>-0.060024</td>\n",
       "      <td>-0.077744</td>\n",
       "      <td>0.020608</td>\n",
       "      <td>0.180344</td>\n",
       "      <td>0.360414</td>\n",
       "      <td>-0.012005</td>\n",
       "      <td>-0.026221</td>\n",
       "      <td>1.000000</td>\n",
       "      <td>0.328011</td>\n",
       "    </tr>\n",
       "    <tr>\n",
       "      <th>claim_prob</th>\n",
       "      <td>-0.005363</td>\n",
       "      <td>0.653088</td>\n",
       "      <td>-0.009550</td>\n",
       "      <td>-0.148758</td>\n",
       "      <td>-0.086355</td>\n",
       "      <td>0.033352</td>\n",
       "      <td>0.361017</td>\n",
       "      <td>0.691382</td>\n",
       "      <td>-0.065660</td>\n",
       "      <td>-0.032400</td>\n",
       "      <td>0.328011</td>\n",
       "      <td>1.000000</td>\n",
       "    </tr>\n",
       "  </tbody>\n",
       "</table>\n",
       "</div>"
      ],
      "text/plain": [
       "                  gender      area  qualification    income  marital_status  \\\n",
       "gender          1.000000  0.042516      -0.033076 -0.008311        0.070468   \n",
       "area            0.042516  1.000000       0.022908 -0.203315       -0.048739   \n",
       "qualification  -0.033076  0.022908       1.000000  0.001744       -0.012618   \n",
       "income         -0.008311 -0.203315       0.001744  1.000000        0.015400   \n",
       "marital_status  0.070468 -0.048739      -0.012618  0.015400        1.000000   \n",
       "vintage         0.005827  0.001145      -0.027283 -0.011943       -0.011686   \n",
       "claim_amount    0.049773  0.451054       0.027440 -0.153684       -0.114924   \n",
       "num_policies   -0.052871  0.121898      -0.045894 -0.047446       -0.082363   \n",
       "policy          0.009049 -0.107123      -0.012722 -0.033050       -0.014709   \n",
       "type_of_policy -0.010702 -0.027672      -0.031595 -0.025243       -0.006371   \n",
       "cltv           -0.001318  0.133107      -0.021330 -0.060024       -0.077744   \n",
       "claim_prob     -0.005363  0.653088      -0.009550 -0.148758       -0.086355   \n",
       "\n",
       "                 vintage  claim_amount  num_policies    policy  \\\n",
       "gender          0.005827      0.049773     -0.052871  0.009049   \n",
       "area            0.001145      0.451054      0.121898 -0.107123   \n",
       "qualification  -0.027283      0.027440     -0.045894 -0.012722   \n",
       "income         -0.011943     -0.153684     -0.047446 -0.033050   \n",
       "marital_status -0.011686     -0.114924     -0.082363 -0.014709   \n",
       "vintage         1.000000      0.009579      0.050699  0.043822   \n",
       "claim_amount    0.009579      1.000000      0.155281 -0.106845   \n",
       "num_policies    0.050699      0.155281      1.000000 -0.009837   \n",
       "policy          0.043822     -0.106845     -0.009837  1.000000   \n",
       "type_of_policy  0.009025     -0.021854     -0.033620  0.066279   \n",
       "cltv            0.020608      0.180344      0.360414 -0.012005   \n",
       "claim_prob      0.033352      0.361017      0.691382 -0.065660   \n",
       "\n",
       "                type_of_policy      cltv  claim_prob  \n",
       "gender               -0.010702 -0.001318   -0.005363  \n",
       "area                 -0.027672  0.133107    0.653088  \n",
       "qualification        -0.031595 -0.021330   -0.009550  \n",
       "income               -0.025243 -0.060024   -0.148758  \n",
       "marital_status       -0.006371 -0.077744   -0.086355  \n",
       "vintage               0.009025  0.020608    0.033352  \n",
       "claim_amount         -0.021854  0.180344    0.361017  \n",
       "num_policies         -0.033620  0.360414    0.691382  \n",
       "policy                0.066279 -0.012005   -0.065660  \n",
       "type_of_policy        1.000000 -0.026221   -0.032400  \n",
       "cltv                 -0.026221  1.000000    0.328011  \n",
       "claim_prob           -0.032400  0.328011    1.000000  "
      ]
     },
     "execution_count": 9,
     "metadata": {},
     "output_type": "execute_result"
    },
    {
     "data": {
      "image/png": "[encoded data removed]",
      "text/plain": [
       "<Figure size 640x480 with 2 Axes>"
      ]
     },
     "metadata": {},
     "output_type": "display_data"
    }
   ],
   "source": [
    "# Corellation Heatmap\n",
    "\n",
    "plt.figure()\n",
    "sns.heatmap(train.drop(\"id\",axis=1).corr())\n",
    "\n",
    "train.drop(\"id\",axis=1).corr()"
   ]
  },
  {
   "attachments": {},
   "cell_type": "markdown",
   "metadata": {},
   "source": [
    "## Data Splitting "
   ]
  },
  {
   "cell_type": "code",
   "execution_count": 10,
   "metadata": {},
   "outputs": [
    {
     "name": "stdout",
     "output_type": "stream",
     "text": [
      "[(84922, 12), (4470, 12), (84922,), (4470,)]\n"
     ]
    }
   ],
   "source": [
    "x_train,x_val,y_train,y_val = train_test_split(x_train,y_train,test_size=0.05,random_state=42)\n",
    "print([i.shape for i in [x_train,x_val,y_train,y_val]])"
   ]
  },
  {
   "attachments": {},
   "cell_type": "markdown",
   "metadata": {},
   "source": [
    "## Hyper Parameter Tuning"
   ]
  },
  {
   "cell_type": "code",
   "execution_count": 11,
   "metadata": {},
   "outputs": [],
   "source": [
    "# xgb_reg_params = {\n",
    "#     'learning_rate':    hp.choice('learning_rate',    np.array([0.01, 0.1, 0.2, 0.3])),\n",
    "#     'max_depth':        hp.choice('max_depth',        np.array([3, 5, 6, 10, 15, 20])),\n",
    "#     'min_child_weight': hp.choice('min_child_weight', np.arange(1, 8, 1, dtype=int)),\n",
    "#     'colsample_bytree': hp.choice('colsample_bytree', np.arange(0.4, 1.0, 0.1)),\n",
    "#     'colsample_bylevel': hp.choice('colsample_bylevel', np.arange(0.4, 1.0, 0.1)),\n",
    "#     'subsample':        hp.choice('subsample', np.arange(0.5, 1.0, 0.1)),\n",
    "#     'n_estimators':     hp.choice('n_estimators', np.arange(200, 1200, 200)),\n",
    "# }\n",
    "\n",
    "\n",
    "# LGBM_Param = {\n",
    "#         \"n_estimators\": hp.choice(\"n_estimators\", np.arange(100,2000,100)),\n",
    "#         \"learning_rate\": hp.choice(\"learning_rate\", np.arange(0.01,0.3,0.1)),\n",
    "#         \"num_leaves\": hp.choice(\"num_leaves\", np.arange(20,4000,20)),\n",
    "#         \"max_depth\": hp.choice(\"max_depth\",np.arange(3, 12, 1)),\n",
    "#         \"min_data_in_leaf\": hp.choice(\"min_data_in_leaf\", np.arange(200, 1000, 200)),\n",
    "#         # \"lambda_l1\": hp.choice(\"lambda_l1\", np.arange(0,100,10)),\n",
    "#         # \"lambda_l2\": hp.choice(\"lambda_l2\", np.arange(0,100,10)),\n",
    "#         \"min_gain_to_split\": hp.choice(\"min_gain_to_split\", np.arange(0,15,1)),\n",
    "#         \"bagging_fraction\": hp.choice(\"bagging_fraction\",np.arange(0.2, 0.9,0.1)),\n",
    "#         # \"bagging_freq\": hp.choice(\"bagging_freq\", [1]),\n",
    "#         \"feature_fraction\": hp.choice(\"feature_fraction\",np.arange(0.2, 0.9,0.1)),\n",
    "#     }\n",
    "\n",
    "\n",
    "# cat_Param = {\n",
    "#     'depth': hp.choice(\"depth\",np.arange(4,10,1)),\n",
    "#     'learning_rate' : hp.choice(\"learning_rate\",[0.01, 0.05, 0.1]),\n",
    "#     'iterations': hp.choice(\"iterations\",[30, 50,100,130,150,180,200])\n",
    "# }  "
   ]
  },
  {
   "cell_type": "code",
   "execution_count": 12,
   "metadata": {},
   "outputs": [],
   "source": [
    "# def hypertuner(parameter):\n",
    "#     model = CatBoostRegressor(**parameter)\n",
    "#     model.fit(x_train.drop(\"id\",axis=1).loc[:30000],y_train.loc[:30000])\n",
    "#     pred = model.predict(x_val.drop(\"id\",axis=1))\n",
    "#     score = r2_score(y_val,pred)\n",
    "    \n",
    "#     print (f\"r2_score: {score}\")\n",
    "#     return {\"loss\": -score, \"status\": STATUS_OK}"
   ]
  },
  {
   "cell_type": "code",
   "execution_count": 13,
   "metadata": {},
   "outputs": [],
   "source": [
    "# best_parameters = fmin(\n",
    "#     fn = hypertuner,\n",
    "#     space = cat_Param,\n",
    "#     algo = tpe.suggest,\n",
    "#     max_evals=200,\n",
    "#     trials=Trials()\n",
    "# )\n",
    "\n",
    "# print(\"Best: {}\".format(best_parameters))\n",
    "# print(space_eval(cat_Param, best_parameters))"
   ]
  },
  {
   "attachments": {},
   "cell_type": "markdown",
   "metadata": {},
   "source": [
    "## Fine-Tune Hyper Parameters"
   ]
  },
  {
   "cell_type": "code",
   "execution_count": 14,
   "metadata": {},
   "outputs": [],
   "source": [
    "# model = AutoML()\n",
    "# automl_settings = {\n",
    "#     \"time_budget\": 500, \n",
    "#     \"metric\": 'r2',\n",
    "#     \"task\": 'regression',\n",
    "#     \"estimator_list\": [\"xgboost\"],\n",
    "#     \"starting_points\": space_eval(xgb_reg_params, best_parameters)\n",
    "# }"
   ]
  },
  {
   "cell_type": "code",
   "execution_count": 15,
   "metadata": {},
   "outputs": [],
   "source": [
    "# model.fit(x_train.drop(\"id\",axis=1),y_train)"
   ]
  },
  {
   "cell_type": "code",
   "execution_count": 16,
   "metadata": {},
   "outputs": [],
   "source": [
    "# print('Best ML leaner:', model.best_estimator)\n",
    "# print('Best hyperparmeter config:', model.best_config)\n",
    "# print('Best accuracy on validation data: {0:.4g}'.format(1-model.best_loss))\n",
    "# print('Training duration of best run: {0:.4g} s'.format(model.best_config_train_time))\n",
    "\n",
    "# # Saving the model - \n",
    "\n",
    "# pickle.dump(model4,open(\"XGB_Model.sav\",\"wb\"))"
   ]
  },
  {
   "attachments": {},
   "cell_type": "markdown",
   "metadata": {},
   "source": [
    "## Using Voting Regressor"
   ]
  },
  {
   "cell_type": "code",
   "execution_count": 17,
   "metadata": {},
   "outputs": [],
   "source": [
    "# Saved Models from Fine Tuning\n",
    "\n",
    "model1 = pickle.load(open(\"./XGB_Model.sav\",\"rb\"))\n",
    "model3 = pickle.load(open(\"./CATB_Model.sav\",\"rb\"))\n",
    "model2 = pickle.load(open(\"./LGBM_Model.sav\",\"rb\"))\n",
    "model4 = pickle.load(open(\"./XGB.sav\",\"rb\"))"
   ]
  },
  {
   "cell_type": "code",
   "execution_count": 18,
   "metadata": {},
   "outputs": [],
   "source": [
    "voter = VotingRegressor([\n",
    "    (\"XGB\", model1),\n",
    "    (\"LGBM\", model2),\n",
    "    (\"CAT\", model3)\n",
    "])\n",
    "\n",
    "voter.estimators_ = [model1,model2,model3]\n",
    "\n",
    "model = VotingRegressor([\n",
    "    (\"V1\", voter),\n",
    "    (\"AML\", model4),\n",
    "])\n",
    "\n",
    "model.estimators_ = [voter,model4]"
   ]
  },
  {
   "attachments": {},
   "cell_type": "markdown",
   "metadata": {},
   "source": [
    "## Test Data Prediction"
   ]
  },
  {
   "cell_type": "code",
   "execution_count": 19,
   "metadata": {},
   "outputs": [],
   "source": [
    "def prediction(x_data,y_data):\n",
    "    pred = model.predict(x_data.drop(\"id\",axis=1))\n",
    "    score = r2_score(y_data,pred)\n",
    "    \n",
    "    print(f\"r2_Score - {score}\")\n",
    "    \n",
    "    return pred\n"
   ]
  },
  {
   "cell_type": "code",
   "execution_count": 20,
   "metadata": {},
   "outputs": [
    {
     "name": "stdout",
     "output_type": "stream",
     "text": [
      "r2_Score - 0.1585933399559185\n",
      "[110371.82250618  50947.73407877  47204.04664961 ...  53346.8192343\n",
      "  97295.53150886  56612.61644021]\n"
     ]
    }
   ],
   "source": [
    "print(prediction(x_val,y_val))"
   ]
  },
  {
   "cell_type": "code",
   "execution_count": 21,
   "metadata": {},
   "outputs": [
    {
     "name": "stdout",
     "output_type": "stream",
     "text": [
      "[ 92612.98357842 131935.58733926  96539.01161022 ... 107596.20682154\n",
      " 103625.23685706 115321.62486728]\n"
     ]
    }
   ],
   "source": [
    "x_test = preprocess(test)\n",
    "t_pred = model.predict(x_test.drop(\"id\",axis=1))\n",
    "\n",
    "print(t_pred)"
   ]
  },
  {
   "attachments": {},
   "cell_type": "markdown",
   "metadata": {},
   "source": [
    "## Submission"
   ]
  },
  {
   "cell_type": "code",
   "execution_count": 22,
   "metadata": {},
   "outputs": [],
   "source": [
    "id = x_test[\"id\"]\n",
    "id.reset_index(drop=True, inplace=True)\n",
    "\n",
    "t_pred = pd.DataFrame(t_pred,columns=[\"cltv\"])\n",
    "t_pred.reset_index(drop=True, inplace=True)"
   ]
  },
  {
   "cell_type": "code",
   "execution_count": 23,
   "metadata": {},
   "outputs": [],
   "source": [
    "submission = pd.concat([id,t_pred],axis=1)\n",
    "submission.to_csv(\"submission.csv\",index=False)"
   ]
  }
 ],
 "metadata": {
  "kernelspec": {
   "display_name": "Python 3.8.10 64-bit",
   "language": "python",
   "name": "python3"
  },
  "language_info": {
   "codemirror_mode": {
    "name": "ipython",
    "version": 3
   },
   "file_extension": ".py",
   "mimetype": "text/x-python",
   "name": "python",
   "nbconvert_exporter": "python",
   "pygments_lexer": "ipython3",
   "version": "3.8.10"
  },
  "orig_nbformat": 4,
  "vscode": {
   "interpreter": {
    "hash": "c0b8fc9812d47bfcd376dbcb9670b7e942d09aacac084188ded197851bb1b150"
   }
  }
 },
 "nbformat": 4,
 "nbformat_minor": 2
}
